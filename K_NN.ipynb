{
 "cells": [
  {
   "cell_type": "markdown",
   "source": [
    "# Importing Libraries"
   ],
   "metadata": {
    "collapsed": false,
    "id": "seNFkdLhbfHH"
   }
  },
  {
   "cell_type": "code",
   "execution_count": null,
   "metadata": {
    "collapsed": true,
    "id": "rym6baqFbfHI"
   },
   "outputs": [],
   "source": [
    "import pandas as pd\n",
    "import numpy as np\n",
    "from sklearn.model_selection import GridSearchCV\n",
    "from sklearn.model_selection import train_test_split\n",
    "from sklearn.neighbors import KNeighborsClassifier\n",
    "from sklearn.metrics import confusion_matrix\n",
    "from sklearn.metrics import accuracy_score\n",
    "from sklearn.metrics import classification_report\n",
    "from sklearn.decomposition import PCA\n",
    "from sklearn.preprocessing import StandardScaler\n",
    "import matplotlib.pyplot as plt\n",
    "import seaborn as sns"
   ]
  },
  {
   "cell_type": "markdown",
   "source": [
    "# Data Loading"
   ],
   "metadata": {
    "id": "qIcsi1aUbxSv"
   }
  },
  {
   "cell_type": "code",
   "source": [
    "# Loading the dataset\n",
    "spambase = pd.read_csv(\"spambase.csv\")\n",
    "\n",
    "# Adding column names\n",
    "spambase.columns = ['word_freq_make', 'word_freq_address', 'word_freq_all', 'word_freq_3d', 'word_freq_our', 'word_freq_over', 'word_freq_remove', 'word_freq_internet', 'word_freq_order', 'word_freq_mail', 'word_freq_receive', 'word_freq_will', 'word_freq_people', 'word_freq_report', 'word_freq_addresses', 'word_freq_free', 'word_freq_business', 'word_freq_email', 'word_freq_you', 'word_freq_credit', 'word_freq_your', 'word_freq_font', 'word_freq_000', 'word_freq_money', 'word_freq_hp', 'word_freq_hpl', 'word_freq_george', 'word_freq_650', 'word_freq_lab', 'word_freq_labs', 'word_freq_telnet', 'word_freq_857', 'word_freq_data', 'word_freq_415', 'word_freq_85', 'word_freq_technology', 'word_freq_1999', 'word_freq_parts', 'word_freq_pm', 'word_freq_direct', 'word_freq_cs', 'word_freq_meeting', 'word_freq_original', 'word_freq_project', 'word_freq_re', 'word_freq_edu', 'word_freq_table', 'word_freq_conference', 'char_freq_;', 'char_freq_(', 'char_freq_[', 'char_freq_!', 'char_freq_$', 'char_freq_#', 'capital_run_length_average', 'capital_run_length_longest', 'capital_run_length_total', 'class']"
   ],
   "metadata": {
    "id": "adFBj5nJb6--"
   },
   "execution_count": null,
   "outputs": []
  },
  {
   "cell_type": "code",
   "source": [
    "# Displaying the top 5 rows of dataset\n",
    "spambase.head()"
   ],
   "metadata": {
    "colab": {
     "base_uri": "https://localhost:8080/",
     "height": 299
    },
    "id": "CNl0fDJBcAdf",
    "outputId": "4d71f4b1-6a7e-474c-9d3a-8609577efd7b"
   },
   "execution_count": null,
   "outputs": [
    {
     "output_type": "execute_result",
     "data": {
      "text/plain": [
       "   word_freq_make  word_freq_address  word_freq_all  word_freq_3d  \\\n",
       "0            0.21               0.28           0.50           0.0   \n",
       "1            0.06               0.00           0.71           0.0   \n",
       "2            0.00               0.00           0.00           0.0   \n",
       "3            0.00               0.00           0.00           0.0   \n",
       "4            0.00               0.00           0.00           0.0   \n",
       "\n",
       "   word_freq_our  word_freq_over  word_freq_remove  word_freq_internet  \\\n",
       "0           0.14            0.28              0.21                0.07   \n",
       "1           1.23            0.19              0.19                0.12   \n",
       "2           0.63            0.00              0.31                0.63   \n",
       "3           0.63            0.00              0.31                0.63   \n",
       "4           1.85            0.00              0.00                1.85   \n",
       "\n",
       "   word_freq_order  word_freq_mail  ...  char_freq_;  char_freq_(  \\\n",
       "0             0.00            0.94  ...         0.00        0.132   \n",
       "1             0.64            0.25  ...         0.01        0.143   \n",
       "2             0.31            0.63  ...         0.00        0.137   \n",
       "3             0.31            0.63  ...         0.00        0.135   \n",
       "4             0.00            0.00  ...         0.00        0.223   \n",
       "\n",
       "   char_freq_[  char_freq_!  char_freq_$  char_freq_#  \\\n",
       "0          0.0        0.372        0.180        0.048   \n",
       "1          0.0        0.276        0.184        0.010   \n",
       "2          0.0        0.137        0.000        0.000   \n",
       "3          0.0        0.135        0.000        0.000   \n",
       "4          0.0        0.000        0.000        0.000   \n",
       "\n",
       "   capital_run_length_average  capital_run_length_longest  \\\n",
       "0                       5.114                         101   \n",
       "1                       9.821                         485   \n",
       "2                       3.537                          40   \n",
       "3                       3.537                          40   \n",
       "4                       3.000                          15   \n",
       "\n",
       "   capital_run_length_total  class  \n",
       "0                      1028      1  \n",
       "1                      2259      1  \n",
       "2                       191      1  \n",
       "3                       191      1  \n",
       "4                        54      1  \n",
       "\n",
       "[5 rows x 58 columns]"
      ],
      "text/html": [
       "\n",
       "  <div id=\"df-9d0bf8d0-ca4a-4de9-a1e4-4668cc633de1\">\n",
       "    <div class=\"colab-df-container\">\n",
       "      <div>\n",
       "<style scoped>\n",
       "    .dataframe tbody tr th:only-of-type {\n",
       "        vertical-align: middle;\n",
       "    }\n",
       "\n",
       "    .dataframe tbody tr th {\n",
       "        vertical-align: top;\n",
       "    }\n",
       "\n",
       "    .dataframe thead th {\n",
       "        text-align: right;\n",
       "    }\n",
       "</style>\n",
       "<table border=\"1\" class=\"dataframe\">\n",
       "  <thead>\n",
       "    <tr style=\"text-align: right;\">\n",
       "      <th></th>\n",
       "      <th>word_freq_make</th>\n",
       "      <th>word_freq_address</th>\n",
       "      <th>word_freq_all</th>\n",
       "      <th>word_freq_3d</th>\n",
       "      <th>word_freq_our</th>\n",
       "      <th>word_freq_over</th>\n",
       "      <th>word_freq_remove</th>\n",
       "      <th>word_freq_internet</th>\n",
       "      <th>word_freq_order</th>\n",
       "      <th>word_freq_mail</th>\n",
       "      <th>...</th>\n",
       "      <th>char_freq_;</th>\n",
       "      <th>char_freq_(</th>\n",
       "      <th>char_freq_[</th>\n",
       "      <th>char_freq_!</th>\n",
       "      <th>char_freq_$</th>\n",
       "      <th>char_freq_#</th>\n",
       "      <th>capital_run_length_average</th>\n",
       "      <th>capital_run_length_longest</th>\n",
       "      <th>capital_run_length_total</th>\n",
       "      <th>class</th>\n",
       "    </tr>\n",
       "  </thead>\n",
       "  <tbody>\n",
       "    <tr>\n",
       "      <th>0</th>\n",
       "      <td>0.21</td>\n",
       "      <td>0.28</td>\n",
       "      <td>0.50</td>\n",
       "      <td>0.0</td>\n",
       "      <td>0.14</td>\n",
       "      <td>0.28</td>\n",
       "      <td>0.21</td>\n",
       "      <td>0.07</td>\n",
       "      <td>0.00</td>\n",
       "      <td>0.94</td>\n",
       "      <td>...</td>\n",
       "      <td>0.00</td>\n",
       "      <td>0.132</td>\n",
       "      <td>0.0</td>\n",
       "      <td>0.372</td>\n",
       "      <td>0.180</td>\n",
       "      <td>0.048</td>\n",
       "      <td>5.114</td>\n",
       "      <td>101</td>\n",
       "      <td>1028</td>\n",
       "      <td>1</td>\n",
       "    </tr>\n",
       "    <tr>\n",
       "      <th>1</th>\n",
       "      <td>0.06</td>\n",
       "      <td>0.00</td>\n",
       "      <td>0.71</td>\n",
       "      <td>0.0</td>\n",
       "      <td>1.23</td>\n",
       "      <td>0.19</td>\n",
       "      <td>0.19</td>\n",
       "      <td>0.12</td>\n",
       "      <td>0.64</td>\n",
       "      <td>0.25</td>\n",
       "      <td>...</td>\n",
       "      <td>0.01</td>\n",
       "      <td>0.143</td>\n",
       "      <td>0.0</td>\n",
       "      <td>0.276</td>\n",
       "      <td>0.184</td>\n",
       "      <td>0.010</td>\n",
       "      <td>9.821</td>\n",
       "      <td>485</td>\n",
       "      <td>2259</td>\n",
       "      <td>1</td>\n",
       "    </tr>\n",
       "    <tr>\n",
       "      <th>2</th>\n",
       "      <td>0.00</td>\n",
       "      <td>0.00</td>\n",
       "      <td>0.00</td>\n",
       "      <td>0.0</td>\n",
       "      <td>0.63</td>\n",
       "      <td>0.00</td>\n",
       "      <td>0.31</td>\n",
       "      <td>0.63</td>\n",
       "      <td>0.31</td>\n",
       "      <td>0.63</td>\n",
       "      <td>...</td>\n",
       "      <td>0.00</td>\n",
       "      <td>0.137</td>\n",
       "      <td>0.0</td>\n",
       "      <td>0.137</td>\n",
       "      <td>0.000</td>\n",
       "      <td>0.000</td>\n",
       "      <td>3.537</td>\n",
       "      <td>40</td>\n",
       "      <td>191</td>\n",
       "      <td>1</td>\n",
       "    </tr>\n",
       "    <tr>\n",
       "      <th>3</th>\n",
       "      <td>0.00</td>\n",
       "      <td>0.00</td>\n",
       "      <td>0.00</td>\n",
       "      <td>0.0</td>\n",
       "      <td>0.63</td>\n",
       "      <td>0.00</td>\n",
       "      <td>0.31</td>\n",
       "      <td>0.63</td>\n",
       "      <td>0.31</td>\n",
       "      <td>0.63</td>\n",
       "      <td>...</td>\n",
       "      <td>0.00</td>\n",
       "      <td>0.135</td>\n",
       "      <td>0.0</td>\n",
       "      <td>0.135</td>\n",
       "      <td>0.000</td>\n",
       "      <td>0.000</td>\n",
       "      <td>3.537</td>\n",
       "      <td>40</td>\n",
       "      <td>191</td>\n",
       "      <td>1</td>\n",
       "    </tr>\n",
       "    <tr>\n",
       "      <th>4</th>\n",
       "      <td>0.00</td>\n",
       "      <td>0.00</td>\n",
       "      <td>0.00</td>\n",
       "      <td>0.0</td>\n",
       "      <td>1.85</td>\n",
       "      <td>0.00</td>\n",
       "      <td>0.00</td>\n",
       "      <td>1.85</td>\n",
       "      <td>0.00</td>\n",
       "      <td>0.00</td>\n",
       "      <td>...</td>\n",
       "      <td>0.00</td>\n",
       "      <td>0.223</td>\n",
       "      <td>0.0</td>\n",
       "      <td>0.000</td>\n",
       "      <td>0.000</td>\n",
       "      <td>0.000</td>\n",
       "      <td>3.000</td>\n",
       "      <td>15</td>\n",
       "      <td>54</td>\n",
       "      <td>1</td>\n",
       "    </tr>\n",
       "  </tbody>\n",
       "</table>\n",
       "<p>5 rows × 58 columns</p>\n",
       "</div>\n",
       "      <button class=\"colab-df-convert\" onclick=\"convertToInteractive('df-9d0bf8d0-ca4a-4de9-a1e4-4668cc633de1')\"\n",
       "              title=\"Convert this dataframe to an interactive table.\"\n",
       "              style=\"display:none;\">\n",
       "        \n",
       "  <svg xmlns=\"http://www.w3.org/2000/svg\" height=\"24px\"viewBox=\"0 0 24 24\"\n",
       "       width=\"24px\">\n",
       "    <path d=\"M0 0h24v24H0V0z\" fill=\"none\"/>\n",
       "    <path d=\"M18.56 5.44l.94 2.06.94-2.06 2.06-.94-2.06-.94-.94-2.06-.94 2.06-2.06.94zm-11 1L8.5 8.5l.94-2.06 2.06-.94-2.06-.94L8.5 2.5l-.94 2.06-2.06.94zm10 10l.94 2.06.94-2.06 2.06-.94-2.06-.94-.94-2.06-.94 2.06-2.06.94z\"/><path d=\"M17.41 7.96l-1.37-1.37c-.4-.4-.92-.59-1.43-.59-.52 0-1.04.2-1.43.59L10.3 9.45l-7.72 7.72c-.78.78-.78 2.05 0 2.83L4 21.41c.39.39.9.59 1.41.59.51 0 1.02-.2 1.41-.59l7.78-7.78 2.81-2.81c.8-.78.8-2.07 0-2.86zM5.41 20L4 18.59l7.72-7.72 1.47 1.35L5.41 20z\"/>\n",
       "  </svg>\n",
       "      </button>\n",
       "      \n",
       "  <style>\n",
       "    .colab-df-container {\n",
       "      display:flex;\n",
       "      flex-wrap:wrap;\n",
       "      gap: 12px;\n",
       "    }\n",
       "\n",
       "    .colab-df-convert {\n",
       "      background-color: #E8F0FE;\n",
       "      border: none;\n",
       "      border-radius: 50%;\n",
       "      cursor: pointer;\n",
       "      display: none;\n",
       "      fill: #1967D2;\n",
       "      height: 32px;\n",
       "      padding: 0 0 0 0;\n",
       "      width: 32px;\n",
       "    }\n",
       "\n",
       "    .colab-df-convert:hover {\n",
       "      background-color: #E2EBFA;\n",
       "      box-shadow: 0px 1px 2px rgba(60, 64, 67, 0.3), 0px 1px 3px 1px rgba(60, 64, 67, 0.15);\n",
       "      fill: #174EA6;\n",
       "    }\n",
       "\n",
       "    [theme=dark] .colab-df-convert {\n",
       "      background-color: #3B4455;\n",
       "      fill: #D2E3FC;\n",
       "    }\n",
       "\n",
       "    [theme=dark] .colab-df-convert:hover {\n",
       "      background-color: #434B5C;\n",
       "      box-shadow: 0px 1px 3px 1px rgba(0, 0, 0, 0.15);\n",
       "      filter: drop-shadow(0px 1px 2px rgba(0, 0, 0, 0.3));\n",
       "      fill: #FFFFFF;\n",
       "    }\n",
       "  </style>\n",
       "\n",
       "      <script>\n",
       "        const buttonEl =\n",
       "          document.querySelector('#df-9d0bf8d0-ca4a-4de9-a1e4-4668cc633de1 button.colab-df-convert');\n",
       "        buttonEl.style.display =\n",
       "          google.colab.kernel.accessAllowed ? 'block' : 'none';\n",
       "\n",
       "        async function convertToInteractive(key) {\n",
       "          const element = document.querySelector('#df-9d0bf8d0-ca4a-4de9-a1e4-4668cc633de1');\n",
       "          const dataTable =\n",
       "            await google.colab.kernel.invokeFunction('convertToInteractive',\n",
       "                                                     [key], {});\n",
       "          if (!dataTable) return;\n",
       "\n",
       "          const docLinkHtml = 'Like what you see? Visit the ' +\n",
       "            '<a target=\"_blank\" href=https://colab.research.google.com/notebooks/data_table.ipynb>data table notebook</a>'\n",
       "            + ' to learn more about interactive tables.';\n",
       "          element.innerHTML = '';\n",
       "          dataTable['output_type'] = 'display_data';\n",
       "          await google.colab.output.renderOutput(dataTable, element);\n",
       "          const docLink = document.createElement('div');\n",
       "          docLink.innerHTML = docLinkHtml;\n",
       "          element.appendChild(docLink);\n",
       "        }\n",
       "      </script>\n",
       "    </div>\n",
       "  </div>\n",
       "  "
      ]
     },
     "metadata": {},
     "execution_count": 277
    }
   ]
  },
  {
   "cell_type": "markdown",
   "source": [
    "# Data Cleaning"
   ],
   "metadata": {
    "id": "AQL0RPHueIdZ"
   }
  },
  {
   "cell_type": "code",
   "source": [
    "# Remove duplicate rows in the dataset\n",
    "spambase = spambase.drop_duplicates()"
   ],
   "metadata": {
    "id": "zbBveZqYeL-m"
   },
   "execution_count": null,
   "outputs": []
  },
  {
   "cell_type": "code",
   "source": [
    "# Shape of the dataset after dropping the duplicate rows\n",
    "spambase.shape"
   ],
   "metadata": {
    "colab": {
     "base_uri": "https://localhost:8080/"
    },
    "id": "JqY5VPm4eRu0",
    "outputId": "d13d3b78-1068-4a8e-9fef-edbac55e4fd2"
   },
   "execution_count": null,
   "outputs": [
    {
     "output_type": "execute_result",
     "data": {
      "text/plain": [
       "(4209, 58)"
      ]
     },
     "metadata": {},
     "execution_count": 279
    }
   ]
  },
  {
   "cell_type": "markdown",
   "source": [
    "# Visualizing the dataset"
   ],
   "metadata": {
    "id": "0q2QdCn2iTdW"
   }
  },
  {
   "cell_type": "markdown",
   "source": [
    "The shape of the dataset"
   ],
   "metadata": {
    "id": "qdZVJIQ8KpKu"
   }
  },
  {
   "cell_type": "code",
   "source": [
    "spambase.shape"
   ],
   "metadata": {
    "colab": {
     "base_uri": "https://localhost:8080/"
    },
    "id": "3P7wiJHtcBZr",
    "outputId": "ceabb20f-caaf-45cf-cabd-83ffb8fe59a6"
   },
   "execution_count": null,
   "outputs": [
    {
     "output_type": "execute_result",
     "data": {
      "text/plain": [
       "(4209, 58)"
      ]
     },
     "metadata": {},
     "execution_count": 280
    }
   ]
  },
  {
   "cell_type": "markdown",
   "source": [
    "Summary of dataset"
   ],
   "metadata": {
    "id": "ZK1H-CTiKmk9"
   }
  },
  {
   "cell_type": "code",
   "source": [
    "spambase.describe()"
   ],
   "metadata": {
    "colab": {
     "base_uri": "https://localhost:8080/",
     "height": 393
    },
    "id": "IC5ksAM-cJBa",
    "outputId": "ed689df2-6f58-4899-9921-71ce6313adc1"
   },
   "execution_count": null,
   "outputs": [
    {
     "output_type": "execute_result",
     "data": {
      "text/plain": [
       "       word_freq_make  word_freq_address  word_freq_all  word_freq_3d  \\\n",
       "count     4209.000000        4209.000000    4209.000000   4209.000000   \n",
       "mean         0.104391           0.112530       0.291390      0.063093   \n",
       "std          0.300036           0.454241       0.515752      1.352647   \n",
       "min          0.000000           0.000000       0.000000      0.000000   \n",
       "25%          0.000000           0.000000       0.000000      0.000000   \n",
       "50%          0.000000           0.000000       0.000000      0.000000   \n",
       "75%          0.000000           0.000000       0.440000      0.000000   \n",
       "max          4.540000          14.280000       5.100000     42.810000   \n",
       "\n",
       "       word_freq_our  word_freq_over  word_freq_remove  word_freq_internet  \\\n",
       "count    4209.000000     4209.000000       4209.000000         4209.000000   \n",
       "mean        0.325322        0.096679          0.117503            0.108026   \n",
       "std         0.687887        0.276059          0.397327            0.410328   \n",
       "min         0.000000        0.000000          0.000000            0.000000   \n",
       "25%         0.000000        0.000000          0.000000            0.000000   \n",
       "50%         0.000000        0.000000          0.000000            0.000000   \n",
       "75%         0.410000        0.000000          0.000000            0.000000   \n",
       "max        10.000000        5.880000          7.270000           11.110000   \n",
       "\n",
       "       word_freq_order  word_freq_mail  ...  char_freq_;  char_freq_(  \\\n",
       "count      4209.000000     4209.000000  ...  4209.000000  4209.000000   \n",
       "mean          0.091882        0.248479  ...     0.040413     0.144082   \n",
       "std           0.282174        0.656705  ...     0.252562     0.274280   \n",
       "min           0.000000        0.000000  ...     0.000000     0.000000   \n",
       "25%           0.000000        0.000000  ...     0.000000     0.000000   \n",
       "50%           0.000000        0.000000  ...     0.000000     0.073000   \n",
       "75%           0.000000        0.190000  ...     0.000000     0.194000   \n",
       "max           5.260000       18.180000  ...     4.385000     9.752000   \n",
       "\n",
       "       char_freq_[  char_freq_!  char_freq_$  char_freq_#  \\\n",
       "count  4209.000000  4209.000000  4209.000000  4209.000000   \n",
       "mean      0.017380     0.281018     0.076075     0.045809   \n",
       "std       0.105743     0.843387     0.239734     0.435976   \n",
       "min       0.000000     0.000000     0.000000     0.000000   \n",
       "25%       0.000000     0.000000     0.000000     0.000000   \n",
       "50%       0.000000     0.016000     0.000000     0.000000   \n",
       "75%       0.000000     0.331000     0.053000     0.000000   \n",
       "max       4.081000    32.478000     6.003000    19.829000   \n",
       "\n",
       "       capital_run_length_average  capital_run_length_longest  \\\n",
       "count                 4209.000000                 4209.000000   \n",
       "mean                     5.384282                   52.137800   \n",
       "std                     33.151287                  199.605834   \n",
       "min                      1.000000                    1.000000   \n",
       "25%                      1.627000                    7.000000   \n",
       "50%                      2.297000                   15.000000   \n",
       "75%                      3.706000                   44.000000   \n",
       "max                   1102.500000                 9989.000000   \n",
       "\n",
       "       capital_run_length_total        class  \n",
       "count                4209.00000  4209.000000  \n",
       "mean                  291.18508     0.398670  \n",
       "std                   618.72831     0.489683  \n",
       "min                     1.00000     0.000000  \n",
       "25%                    40.00000     0.000000  \n",
       "50%                   101.00000     0.000000  \n",
       "75%                   273.00000     1.000000  \n",
       "max                 15841.00000     1.000000  \n",
       "\n",
       "[8 rows x 58 columns]"
      ],
      "text/html": [
       "\n",
       "  <div id=\"df-122d66be-b5cd-4454-bc71-41c5b7ac996e\">\n",
       "    <div class=\"colab-df-container\">\n",
       "      <div>\n",
       "<style scoped>\n",
       "    .dataframe tbody tr th:only-of-type {\n",
       "        vertical-align: middle;\n",
       "    }\n",
       "\n",
       "    .dataframe tbody tr th {\n",
       "        vertical-align: top;\n",
       "    }\n",
       "\n",
       "    .dataframe thead th {\n",
       "        text-align: right;\n",
       "    }\n",
       "</style>\n",
       "<table border=\"1\" class=\"dataframe\">\n",
       "  <thead>\n",
       "    <tr style=\"text-align: right;\">\n",
       "      <th></th>\n",
       "      <th>word_freq_make</th>\n",
       "      <th>word_freq_address</th>\n",
       "      <th>word_freq_all</th>\n",
       "      <th>word_freq_3d</th>\n",
       "      <th>word_freq_our</th>\n",
       "      <th>word_freq_over</th>\n",
       "      <th>word_freq_remove</th>\n",
       "      <th>word_freq_internet</th>\n",
       "      <th>word_freq_order</th>\n",
       "      <th>word_freq_mail</th>\n",
       "      <th>...</th>\n",
       "      <th>char_freq_;</th>\n",
       "      <th>char_freq_(</th>\n",
       "      <th>char_freq_[</th>\n",
       "      <th>char_freq_!</th>\n",
       "      <th>char_freq_$</th>\n",
       "      <th>char_freq_#</th>\n",
       "      <th>capital_run_length_average</th>\n",
       "      <th>capital_run_length_longest</th>\n",
       "      <th>capital_run_length_total</th>\n",
       "      <th>class</th>\n",
       "    </tr>\n",
       "  </thead>\n",
       "  <tbody>\n",
       "    <tr>\n",
       "      <th>count</th>\n",
       "      <td>4209.000000</td>\n",
       "      <td>4209.000000</td>\n",
       "      <td>4209.000000</td>\n",
       "      <td>4209.000000</td>\n",
       "      <td>4209.000000</td>\n",
       "      <td>4209.000000</td>\n",
       "      <td>4209.000000</td>\n",
       "      <td>4209.000000</td>\n",
       "      <td>4209.000000</td>\n",
       "      <td>4209.000000</td>\n",
       "      <td>...</td>\n",
       "      <td>4209.000000</td>\n",
       "      <td>4209.000000</td>\n",
       "      <td>4209.000000</td>\n",
       "      <td>4209.000000</td>\n",
       "      <td>4209.000000</td>\n",
       "      <td>4209.000000</td>\n",
       "      <td>4209.000000</td>\n",
       "      <td>4209.000000</td>\n",
       "      <td>4209.00000</td>\n",
       "      <td>4209.000000</td>\n",
       "    </tr>\n",
       "    <tr>\n",
       "      <th>mean</th>\n",
       "      <td>0.104391</td>\n",
       "      <td>0.112530</td>\n",
       "      <td>0.291390</td>\n",
       "      <td>0.063093</td>\n",
       "      <td>0.325322</td>\n",
       "      <td>0.096679</td>\n",
       "      <td>0.117503</td>\n",
       "      <td>0.108026</td>\n",
       "      <td>0.091882</td>\n",
       "      <td>0.248479</td>\n",
       "      <td>...</td>\n",
       "      <td>0.040413</td>\n",
       "      <td>0.144082</td>\n",
       "      <td>0.017380</td>\n",
       "      <td>0.281018</td>\n",
       "      <td>0.076075</td>\n",
       "      <td>0.045809</td>\n",
       "      <td>5.384282</td>\n",
       "      <td>52.137800</td>\n",
       "      <td>291.18508</td>\n",
       "      <td>0.398670</td>\n",
       "    </tr>\n",
       "    <tr>\n",
       "      <th>std</th>\n",
       "      <td>0.300036</td>\n",
       "      <td>0.454241</td>\n",
       "      <td>0.515752</td>\n",
       "      <td>1.352647</td>\n",
       "      <td>0.687887</td>\n",
       "      <td>0.276059</td>\n",
       "      <td>0.397327</td>\n",
       "      <td>0.410328</td>\n",
       "      <td>0.282174</td>\n",
       "      <td>0.656705</td>\n",
       "      <td>...</td>\n",
       "      <td>0.252562</td>\n",
       "      <td>0.274280</td>\n",
       "      <td>0.105743</td>\n",
       "      <td>0.843387</td>\n",
       "      <td>0.239734</td>\n",
       "      <td>0.435976</td>\n",
       "      <td>33.151287</td>\n",
       "      <td>199.605834</td>\n",
       "      <td>618.72831</td>\n",
       "      <td>0.489683</td>\n",
       "    </tr>\n",
       "    <tr>\n",
       "      <th>min</th>\n",
       "      <td>0.000000</td>\n",
       "      <td>0.000000</td>\n",
       "      <td>0.000000</td>\n",
       "      <td>0.000000</td>\n",
       "      <td>0.000000</td>\n",
       "      <td>0.000000</td>\n",
       "      <td>0.000000</td>\n",
       "      <td>0.000000</td>\n",
       "      <td>0.000000</td>\n",
       "      <td>0.000000</td>\n",
       "      <td>...</td>\n",
       "      <td>0.000000</td>\n",
       "      <td>0.000000</td>\n",
       "      <td>0.000000</td>\n",
       "      <td>0.000000</td>\n",
       "      <td>0.000000</td>\n",
       "      <td>0.000000</td>\n",
       "      <td>1.000000</td>\n",
       "      <td>1.000000</td>\n",
       "      <td>1.00000</td>\n",
       "      <td>0.000000</td>\n",
       "    </tr>\n",
       "    <tr>\n",
       "      <th>25%</th>\n",
       "      <td>0.000000</td>\n",
       "      <td>0.000000</td>\n",
       "      <td>0.000000</td>\n",
       "      <td>0.000000</td>\n",
       "      <td>0.000000</td>\n",
       "      <td>0.000000</td>\n",
       "      <td>0.000000</td>\n",
       "      <td>0.000000</td>\n",
       "      <td>0.000000</td>\n",
       "      <td>0.000000</td>\n",
       "      <td>...</td>\n",
       "      <td>0.000000</td>\n",
       "      <td>0.000000</td>\n",
       "      <td>0.000000</td>\n",
       "      <td>0.000000</td>\n",
       "      <td>0.000000</td>\n",
       "      <td>0.000000</td>\n",
       "      <td>1.627000</td>\n",
       "      <td>7.000000</td>\n",
       "      <td>40.00000</td>\n",
       "      <td>0.000000</td>\n",
       "    </tr>\n",
       "    <tr>\n",
       "      <th>50%</th>\n",
       "      <td>0.000000</td>\n",
       "      <td>0.000000</td>\n",
       "      <td>0.000000</td>\n",
       "      <td>0.000000</td>\n",
       "      <td>0.000000</td>\n",
       "      <td>0.000000</td>\n",
       "      <td>0.000000</td>\n",
       "      <td>0.000000</td>\n",
       "      <td>0.000000</td>\n",
       "      <td>0.000000</td>\n",
       "      <td>...</td>\n",
       "      <td>0.000000</td>\n",
       "      <td>0.073000</td>\n",
       "      <td>0.000000</td>\n",
       "      <td>0.016000</td>\n",
       "      <td>0.000000</td>\n",
       "      <td>0.000000</td>\n",
       "      <td>2.297000</td>\n",
       "      <td>15.000000</td>\n",
       "      <td>101.00000</td>\n",
       "      <td>0.000000</td>\n",
       "    </tr>\n",
       "    <tr>\n",
       "      <th>75%</th>\n",
       "      <td>0.000000</td>\n",
       "      <td>0.000000</td>\n",
       "      <td>0.440000</td>\n",
       "      <td>0.000000</td>\n",
       "      <td>0.410000</td>\n",
       "      <td>0.000000</td>\n",
       "      <td>0.000000</td>\n",
       "      <td>0.000000</td>\n",
       "      <td>0.000000</td>\n",
       "      <td>0.190000</td>\n",
       "      <td>...</td>\n",
       "      <td>0.000000</td>\n",
       "      <td>0.194000</td>\n",
       "      <td>0.000000</td>\n",
       "      <td>0.331000</td>\n",
       "      <td>0.053000</td>\n",
       "      <td>0.000000</td>\n",
       "      <td>3.706000</td>\n",
       "      <td>44.000000</td>\n",
       "      <td>273.00000</td>\n",
       "      <td>1.000000</td>\n",
       "    </tr>\n",
       "    <tr>\n",
       "      <th>max</th>\n",
       "      <td>4.540000</td>\n",
       "      <td>14.280000</td>\n",
       "      <td>5.100000</td>\n",
       "      <td>42.810000</td>\n",
       "      <td>10.000000</td>\n",
       "      <td>5.880000</td>\n",
       "      <td>7.270000</td>\n",
       "      <td>11.110000</td>\n",
       "      <td>5.260000</td>\n",
       "      <td>18.180000</td>\n",
       "      <td>...</td>\n",
       "      <td>4.385000</td>\n",
       "      <td>9.752000</td>\n",
       "      <td>4.081000</td>\n",
       "      <td>32.478000</td>\n",
       "      <td>6.003000</td>\n",
       "      <td>19.829000</td>\n",
       "      <td>1102.500000</td>\n",
       "      <td>9989.000000</td>\n",
       "      <td>15841.00000</td>\n",
       "      <td>1.000000</td>\n",
       "    </tr>\n",
       "  </tbody>\n",
       "</table>\n",
       "<p>8 rows × 58 columns</p>\n",
       "</div>\n",
       "      <button class=\"colab-df-convert\" onclick=\"convertToInteractive('df-122d66be-b5cd-4454-bc71-41c5b7ac996e')\"\n",
       "              title=\"Convert this dataframe to an interactive table.\"\n",
       "              style=\"display:none;\">\n",
       "        \n",
       "  <svg xmlns=\"http://www.w3.org/2000/svg\" height=\"24px\"viewBox=\"0 0 24 24\"\n",
       "       width=\"24px\">\n",
       "    <path d=\"M0 0h24v24H0V0z\" fill=\"none\"/>\n",
       "    <path d=\"M18.56 5.44l.94 2.06.94-2.06 2.06-.94-2.06-.94-.94-2.06-.94 2.06-2.06.94zm-11 1L8.5 8.5l.94-2.06 2.06-.94-2.06-.94L8.5 2.5l-.94 2.06-2.06.94zm10 10l.94 2.06.94-2.06 2.06-.94-2.06-.94-.94-2.06-.94 2.06-2.06.94z\"/><path d=\"M17.41 7.96l-1.37-1.37c-.4-.4-.92-.59-1.43-.59-.52 0-1.04.2-1.43.59L10.3 9.45l-7.72 7.72c-.78.78-.78 2.05 0 2.83L4 21.41c.39.39.9.59 1.41.59.51 0 1.02-.2 1.41-.59l7.78-7.78 2.81-2.81c.8-.78.8-2.07 0-2.86zM5.41 20L4 18.59l7.72-7.72 1.47 1.35L5.41 20z\"/>\n",
       "  </svg>\n",
       "      </button>\n",
       "      \n",
       "  <style>\n",
       "    .colab-df-container {\n",
       "      display:flex;\n",
       "      flex-wrap:wrap;\n",
       "      gap: 12px;\n",
       "    }\n",
       "\n",
       "    .colab-df-convert {\n",
       "      background-color: #E8F0FE;\n",
       "      border: none;\n",
       "      border-radius: 50%;\n",
       "      cursor: pointer;\n",
       "      display: none;\n",
       "      fill: #1967D2;\n",
       "      height: 32px;\n",
       "      padding: 0 0 0 0;\n",
       "      width: 32px;\n",
       "    }\n",
       "\n",
       "    .colab-df-convert:hover {\n",
       "      background-color: #E2EBFA;\n",
       "      box-shadow: 0px 1px 2px rgba(60, 64, 67, 0.3), 0px 1px 3px 1px rgba(60, 64, 67, 0.15);\n",
       "      fill: #174EA6;\n",
       "    }\n",
       "\n",
       "    [theme=dark] .colab-df-convert {\n",
       "      background-color: #3B4455;\n",
       "      fill: #D2E3FC;\n",
       "    }\n",
       "\n",
       "    [theme=dark] .colab-df-convert:hover {\n",
       "      background-color: #434B5C;\n",
       "      box-shadow: 0px 1px 3px 1px rgba(0, 0, 0, 0.15);\n",
       "      filter: drop-shadow(0px 1px 2px rgba(0, 0, 0, 0.3));\n",
       "      fill: #FFFFFF;\n",
       "    }\n",
       "  </style>\n",
       "\n",
       "      <script>\n",
       "        const buttonEl =\n",
       "          document.querySelector('#df-122d66be-b5cd-4454-bc71-41c5b7ac996e button.colab-df-convert');\n",
       "        buttonEl.style.display =\n",
       "          google.colab.kernel.accessAllowed ? 'block' : 'none';\n",
       "\n",
       "        async function convertToInteractive(key) {\n",
       "          const element = document.querySelector('#df-122d66be-b5cd-4454-bc71-41c5b7ac996e');\n",
       "          const dataTable =\n",
       "            await google.colab.kernel.invokeFunction('convertToInteractive',\n",
       "                                                     [key], {});\n",
       "          if (!dataTable) return;\n",
       "\n",
       "          const docLinkHtml = 'Like what you see? Visit the ' +\n",
       "            '<a target=\"_blank\" href=https://colab.research.google.com/notebooks/data_table.ipynb>data table notebook</a>'\n",
       "            + ' to learn more about interactive tables.';\n",
       "          element.innerHTML = '';\n",
       "          dataTable['output_type'] = 'display_data';\n",
       "          await google.colab.output.renderOutput(dataTable, element);\n",
       "          const docLink = document.createElement('div');\n",
       "          docLink.innerHTML = docLinkHtml;\n",
       "          element.appendChild(docLink);\n",
       "        }\n",
       "      </script>\n",
       "    </div>\n",
       "  </div>\n",
       "  "
      ]
     },
     "metadata": {},
     "execution_count": 281
    }
   ]
  },
  {
   "cell_type": "code",
   "source": [
    "spambase.info()"
   ],
   "metadata": {
    "colab": {
     "base_uri": "https://localhost:8080/"
    },
    "id": "XzOGbDd1cqvP",
    "outputId": "1ee64f00-1102-46cb-fda7-a2d4f6767764"
   },
   "execution_count": null,
   "outputs": [
    {
     "output_type": "stream",
     "name": "stdout",
     "text": [
      "<class 'pandas.core.frame.DataFrame'>\n",
      "Int64Index: 4209 entries, 0 to 4599\n",
      "Data columns (total 58 columns):\n",
      " #   Column                      Non-Null Count  Dtype  \n",
      "---  ------                      --------------  -----  \n",
      " 0   word_freq_make              4209 non-null   float64\n",
      " 1   word_freq_address           4209 non-null   float64\n",
      " 2   word_freq_all               4209 non-null   float64\n",
      " 3   word_freq_3d                4209 non-null   float64\n",
      " 4   word_freq_our               4209 non-null   float64\n",
      " 5   word_freq_over              4209 non-null   float64\n",
      " 6   word_freq_remove            4209 non-null   float64\n",
      " 7   word_freq_internet          4209 non-null   float64\n",
      " 8   word_freq_order             4209 non-null   float64\n",
      " 9   word_freq_mail              4209 non-null   float64\n",
      " 10  word_freq_receive           4209 non-null   float64\n",
      " 11  word_freq_will              4209 non-null   float64\n",
      " 12  word_freq_people            4209 non-null   float64\n",
      " 13  word_freq_report            4209 non-null   float64\n",
      " 14  word_freq_addresses         4209 non-null   float64\n",
      " 15  word_freq_free              4209 non-null   float64\n",
      " 16  word_freq_business          4209 non-null   float64\n",
      " 17  word_freq_email             4209 non-null   float64\n",
      " 18  word_freq_you               4209 non-null   float64\n",
      " 19  word_freq_credit            4209 non-null   float64\n",
      " 20  word_freq_your              4209 non-null   float64\n",
      " 21  word_freq_font              4209 non-null   float64\n",
      " 22  word_freq_000               4209 non-null   float64\n",
      " 23  word_freq_money             4209 non-null   float64\n",
      " 24  word_freq_hp                4209 non-null   float64\n",
      " 25  word_freq_hpl               4209 non-null   float64\n",
      " 26  word_freq_george            4209 non-null   float64\n",
      " 27  word_freq_650               4209 non-null   float64\n",
      " 28  word_freq_lab               4209 non-null   float64\n",
      " 29  word_freq_labs              4209 non-null   float64\n",
      " 30  word_freq_telnet            4209 non-null   float64\n",
      " 31  word_freq_857               4209 non-null   float64\n",
      " 32  word_freq_data              4209 non-null   float64\n",
      " 33  word_freq_415               4209 non-null   float64\n",
      " 34  word_freq_85                4209 non-null   float64\n",
      " 35  word_freq_technology        4209 non-null   float64\n",
      " 36  word_freq_1999              4209 non-null   float64\n",
      " 37  word_freq_parts             4209 non-null   float64\n",
      " 38  word_freq_pm                4209 non-null   float64\n",
      " 39  word_freq_direct            4209 non-null   float64\n",
      " 40  word_freq_cs                4209 non-null   float64\n",
      " 41  word_freq_meeting           4209 non-null   float64\n",
      " 42  word_freq_original          4209 non-null   float64\n",
      " 43  word_freq_project           4209 non-null   float64\n",
      " 44  word_freq_re                4209 non-null   float64\n",
      " 45  word_freq_edu               4209 non-null   float64\n",
      " 46  word_freq_table             4209 non-null   float64\n",
      " 47  word_freq_conference        4209 non-null   float64\n",
      " 48  char_freq_;                 4209 non-null   float64\n",
      " 49  char_freq_(                 4209 non-null   float64\n",
      " 50  char_freq_[                 4209 non-null   float64\n",
      " 51  char_freq_!                 4209 non-null   float64\n",
      " 52  char_freq_$                 4209 non-null   float64\n",
      " 53  char_freq_#                 4209 non-null   float64\n",
      " 54  capital_run_length_average  4209 non-null   float64\n",
      " 55  capital_run_length_longest  4209 non-null   int64  \n",
      " 56  capital_run_length_total    4209 non-null   int64  \n",
      " 57  class                       4209 non-null   int64  \n",
      "dtypes: float64(55), int64(3)\n",
      "memory usage: 1.9 MB\n"
     ]
    }
   ]
  },
  {
   "cell_type": "markdown",
   "source": [
    "Visualize the distribution of spam and non-spam emails"
   ],
   "metadata": {
    "id": "3C9pVi4yKiOC"
   }
  },
  {
   "cell_type": "code",
   "source": [
    "sns.countplot(x='class', data=spambase)\n",
    "plt.title('Distribution of Spam vs Non-Spam Emails')\n",
    "plt.xlabel('Email Type')\n",
    "plt.ylabel('Count')\n",
    "plt.show()"
   ],
   "metadata": {
    "colab": {
     "base_uri": "https://localhost:8080/",
     "height": 295
    },
    "id": "dw9UtM9_fgRW",
    "outputId": "6da6be8b-26af-46a0-8158-9b36dea75c38"
   },
   "execution_count": null,
   "outputs": [
    {
     "output_type": "display_data",
     "data": {
      "text/plain": [
       "<Figure size 432x288 with 1 Axes>"
      ],
      "image/png": "[encoded data removed]"
     },
     "metadata": {
      "needs_background": "light"
     }
    }
   ]
  },
  {
   "cell_type": "markdown",
   "source": [
    "Visualize the correlation between the features"
   ],
   "metadata": {
    "id": "agRD8mzeJwMv"
   }
  },
  {
   "cell_type": "code",
   "source": [
    "# Compute the correlation matrix\n",
    "corr = spambase.corr()\n",
    "\n",
    "# Create a heatmap of the correlation matrix\n",
    "plt.figure(figsize=[8,6])\n",
    "plt.title('Features Correlation-Plot')\n",
    "sns.heatmap(corr, vmin=-1, vmax=1, center=0) \n",
    "plt.show()"
   ],
   "metadata": {
    "colab": {
     "base_uri": "https://localhost:8080/",
     "height": 518
    },
    "id": "TucKuxIAjKzc",
    "outputId": "4a8ae1d6-b4f0-4b45-92ae-914f0e3416ed"
   },
   "execution_count": null,
   "outputs": [
    {
     "output_type": "display_data",
     "data": {
      "text/plain": [
       "<Figure size 576x432 with 2 Axes>"
      ],
      "image/png": "[encoded data removed]"
     },
     "metadata": {
      "needs_background": "light"
     }
    }
   ]
  },
  {
   "cell_type": "markdown",
   "source": [
    "# Extract the features and target variable"
   ],
   "metadata": {
    "id": "8FF7prf7jZMb"
   }
  },
  {
   "cell_type": "code",
   "source": [
    "# Create a dataframe with all data except the target column\n",
    "X = spambase.drop(columns=['class'])\n",
    "\n",
    "# Separate target values\n",
    "Y = spambase['class'].values"
   ],
   "metadata": {
    "id": "QhtbNEepjYto"
   },
   "execution_count": null,
   "outputs": []
  },
  {
   "cell_type": "markdown",
   "source": [
    "# Standardizing the dataset"
   ],
   "metadata": {
    "id": "ioROZGmnmk15"
   }
  },
  {
   "cell_type": "code",
   "source": [
    "# Create a StandardScaler object\n",
    "scaler = StandardScaler()\n",
    "\n",
    "# Transform the features\n",
    "X_scaled = scaler.fit_transform(X)"
   ],
   "metadata": {
    "id": "FwMxfDKArnlx"
   },
   "execution_count": null,
   "outputs": []
  },
  {
   "cell_type": "markdown",
   "source": [
    "# Performing KNN on scaled data"
   ],
   "metadata": {
    "id": "3o3LoXQP12pw"
   }
  },
  {
   "cell_type": "markdown",
   "source": [
    "Splitting the scaled dataset into train and test data\n"
   ],
   "metadata": {
    "id": "CzgKEK2F4Jv5"
   }
  },
  {
   "cell_type": "code",
   "source": [
    "# Split the scaled data into training and testing sets\n",
    "X_train, X_test, Y_train, Y_test = train_test_split(X_scaled, Y, test_size=0.25, random_state=0)"
   ],
   "metadata": {
    "id": "h_V3gq5J4Gre"
   },
   "execution_count": null,
   "outputs": []
  },
  {
   "cell_type": "markdown",
   "source": [
    "Determining the best K value"
   ],
   "metadata": {
    "id": "TNrbqsKm3QWm"
   }
  },
  {
   "cell_type": "code",
   "source": [
    "# Define the parameter grid for k\n",
    "param_grid = {'n_neighbors': [3, 5, 7, 9, 11]}\n",
    "\n",
    "# Create a KNN classifier object\n",
    "knn = KNeighborsClassifier()\n",
    "\n",
    "# Perform grid search with 5-fold cross-validation\n",
    "grid_search = GridSearchCV(knn, param_grid, cv=5)\n",
    "\n",
    "# Fit the grid search object to the data\n",
    "grid_search.fit(X_scaled, Y)\n",
    "\n",
    "# Print the best k value and corresponding accuracy\n",
    "print(\"Best K value: {}\".format(grid_search.best_params_['n_neighbors']))\n",
    "print(\"Best accuracy: {:.2f}%\".format(grid_search.best_score_ * 100))\n",
    "\n",
    "# Extract the test set accuracy for each k value\n",
    "scores = grid_search.cv_results_['mean_test_score']\n",
    "best_k = grid_search.best_params_['n_neighbors']\n",
    "\n",
    "# Plot the test set accuracy vs. k values\n",
    "plt.plot(param_grid['n_neighbors'], scores)\n",
    "plt.scatter(best_k, scores[best_k//2], color='red')\n",
    "plt.xlabel('K Value')\n",
    "plt.ylabel('Accuracy')\n",
    "plt.title('KNN Grid Search')\n",
    "plt.show()"
   ],
   "metadata": {
    "colab": {
     "base_uri": "https://localhost:8080/",
     "height": 330
    },
    "id": "WuHbKkMl3dRz",
    "outputId": "196a4811-257a-4167-91d8-3cf85772dbd9"
   },
   "execution_count": null,
   "outputs": [
    {
     "output_type": "stream",
     "name": "stdout",
     "text": [
      "Best K value: 5\n",
      "Best accuracy: 88.29%\n"
     ]
    },
    {
     "output_type": "display_data",
     "data": {
      "text/plain": [
       "<Figure size 432x288 with 1 Axes>"
      ],
      "image/png": "[encoded data removed]"
     },
     "metadata": {
      "needs_background": "light"
     }
    }
   ]
  },
  {
   "cell_type": "markdown",
   "source": [
    "### Performing KNN with best K value"
   ],
   "metadata": {
    "id": "giy7uzDQ39on"
   }
  },
  {
   "cell_type": "markdown",
   "source": [
    "Training the model"
   ],
   "metadata": {
    "id": "EcXGWOR_mROI"
   }
  },
  {
   "cell_type": "code",
   "source": [
    "# Train a KNN classifier with k=5 neighbors\n",
    "knn = KNeighborsClassifier(n_neighbors=5)\n",
    "knn.fit(X_train, Y_train)"
   ],
   "metadata": {
    "colab": {
     "base_uri": "https://localhost:8080/",
     "height": 74
    },
    "id": "eiofCPJC4CDt",
    "outputId": "4929e81c-c5b6-4a8f-cb1f-7a20e1c1cc03"
   },
   "execution_count": null,
   "outputs": [
    {
     "output_type": "execute_result",
     "data": {
      "text/plain": [
       "KNeighborsClassifier()"
      ],
      "text/html": [
       "<style>#sk-container-id-25 {color: black;background-color: white;}#sk-container-id-25 pre{padding: 0;}#sk-container-id-25 div.sk-toggleable {background-color: white;}#sk-container-id-25 label.sk-toggleable__label {cursor: pointer;display: block;width: 100%;margin-bottom: 0;padding: 0.3em;box-sizing: border-box;text-align: center;}#sk-container-id-25 label.sk-toggleable__label-arrow:before {content: \"▸\";float: left;margin-right: 0.25em;color: #696969;}#sk-container-id-25 label.sk-toggleable__label-arrow:hover:before {color: black;}#sk-container-id-25 div.sk-estimator:hover label.sk-toggleable__label-arrow:before {color: black;}#sk-container-id-25 div.sk-toggleable__content {max-height: 0;max-width: 0;overflow: hidden;text-align: left;background-color: #f0f8ff;}#sk-container-id-25 div.sk-toggleable__content pre {margin: 0.2em;color: black;border-radius: 0.25em;background-color: #f0f8ff;}#sk-container-id-25 input.sk-toggleable__control:checked~div.sk-toggleable__content {max-height: 200px;max-width: 100%;overflow: auto;}#sk-container-id-25 input.sk-toggleable__control:checked~label.sk-toggleable__label-arrow:before {content: \"▾\";}#sk-container-id-25 div.sk-estimator input.sk-toggleable__control:checked~label.sk-toggleable__label {background-color: #d4ebff;}#sk-container-id-25 div.sk-label input.sk-toggleable__control:checked~label.sk-toggleable__label {background-color: #d4ebff;}#sk-container-id-25 input.sk-hidden--visually {border: 0;clip: rect(1px 1px 1px 1px);clip: rect(1px, 1px, 1px, 1px);height: 1px;margin: -1px;overflow: hidden;padding: 0;position: absolute;width: 1px;}#sk-container-id-25 div.sk-estimator {font-family: monospace;background-color: #f0f8ff;border: 1px dotted black;border-radius: 0.25em;box-sizing: border-box;margin-bottom: 0.5em;}#sk-container-id-25 div.sk-estimator:hover {background-color: #d4ebff;}#sk-container-id-25 div.sk-parallel-item::after {content: \"\";width: 100%;border-bottom: 1px solid gray;flex-grow: 1;}#sk-container-id-25 div.sk-label:hover label.sk-toggleable__label {background-color: #d4ebff;}#sk-container-id-25 div.sk-serial::before {content: \"\";position: absolute;border-left: 1px solid gray;box-sizing: border-box;top: 0;bottom: 0;left: 50%;z-index: 0;}#sk-container-id-25 div.sk-serial {display: flex;flex-direction: column;align-items: center;background-color: white;padding-right: 0.2em;padding-left: 0.2em;position: relative;}#sk-container-id-25 div.sk-item {position: relative;z-index: 1;}#sk-container-id-25 div.sk-parallel {display: flex;align-items: stretch;justify-content: center;background-color: white;position: relative;}#sk-container-id-25 div.sk-item::before, #sk-container-id-25 div.sk-parallel-item::before {content: \"\";position: absolute;border-left: 1px solid gray;box-sizing: border-box;top: 0;bottom: 0;left: 50%;z-index: -1;}#sk-container-id-25 div.sk-parallel-item {display: flex;flex-direction: column;z-index: 1;position: relative;background-color: white;}#sk-container-id-25 div.sk-parallel-item:first-child::after {align-self: flex-end;width: 50%;}#sk-container-id-25 div.sk-parallel-item:last-child::after {align-self: flex-start;width: 50%;}#sk-container-id-25 div.sk-parallel-item:only-child::after {width: 0;}#sk-container-id-25 div.sk-dashed-wrapped {border: 1px dashed gray;margin: 0 0.4em 0.5em 0.4em;box-sizing: border-box;padding-bottom: 0.4em;background-color: white;}#sk-container-id-25 div.sk-label label {font-family: monospace;font-weight: bold;display: inline-block;line-height: 1.2em;}#sk-container-id-25 div.sk-label-container {text-align: center;}#sk-container-id-25 div.sk-container {/* jupyter's `normalize.less` sets `[hidden] { display: none; }` but bootstrap.min.css set `[hidden] { display: none !important; }` so we also need the `!important` here to be able to override the default hidden behavior on the sphinx rendered scikit-learn.org. See: https://github.com/scikit-learn/scikit-learn/issues/21755 */display: inline-block !important;position: relative;}#sk-container-id-25 div.sk-text-repr-fallback {display: none;}</style><div id=\"sk-container-id-25\" class=\"sk-top-container\"><div class=\"sk-text-repr-fallback\"><pre>KNeighborsClassifier()</pre><b>In a Jupyter environment, please rerun this cell to show the HTML representation or trust the notebook. <br />On GitHub, the HTML representation is unable to render, please try loading this page with nbviewer.org.</b></div><div class=\"sk-container\" hidden><div class=\"sk-item\"><div class=\"sk-estimator sk-toggleable\"><input class=\"sk-toggleable__control sk-hidden--visually\" id=\"sk-estimator-id-25\" type=\"checkbox\" checked><label for=\"sk-estimator-id-25\" class=\"sk-toggleable__label sk-toggleable__label-arrow\">KNeighborsClassifier</label><div class=\"sk-toggleable__content\"><pre>KNeighborsClassifier()</pre></div></div></div></div></div>"
      ]
     },
     "metadata": {},
     "execution_count": 289
    }
   ]
  },
  {
   "cell_type": "markdown",
   "source": [
    "Checking accuracy of test data"
   ],
   "metadata": {
    "id": "2RWgbOW2mZHH"
   }
  },
  {
   "cell_type": "code",
   "source": [
    "# Predict the labels of the test set\n",
    "Y_test_pred = knn.predict(X_test)\n",
    "# Evaluate the accuracy of the model\n",
    "accuracy = accuracy_score(Y_test, Y_test_pred)\n",
    "print(\"Test data accuracy: {:.2f}%\".format(accuracy * 100))"
   ],
   "metadata": {
    "colab": {
     "base_uri": "https://localhost:8080/"
    },
    "id": "WVeRSVZKlp4U",
    "outputId": "495696d8-82a9-485b-a5c3-5dcb666c3897"
   },
   "execution_count": null,
   "outputs": [
    {
     "output_type": "stream",
     "name": "stdout",
     "text": [
      "Test data accuracy: 89.93%\n"
     ]
    }
   ]
  },
  {
   "cell_type": "code",
   "source": [
    "# Print the Confusion Matrix\n",
    "cm = confusion_matrix(Y_test, Y_test_pred)\n",
    "\n",
    "print('Confusion Matrix')\n",
    "print('\\nTrue Positives(TP) = ', cm[0,0])\n",
    "print('\\nTrue Negatives(TN) = ', cm[1,1])\n",
    "print('\\nFalse Positives(FP) = ', cm[0,1])\n",
    "print('\\nFalse Negatives(FN) = ', cm[1,0])"
   ],
   "metadata": {
    "colab": {
     "base_uri": "https://localhost:8080/"
    },
    "id": "MstNwboYOWfc",
    "outputId": "67b272b1-9c3c-41d5-fe27-53c37391eea5"
   },
   "execution_count": null,
   "outputs": [
    {
     "output_type": "stream",
     "name": "stdout",
     "text": [
      "Confusion matrix\n",
      "\n",
      "True Positives(TP) =  579\n",
      "\n",
      "True Negatives(TN) =  368\n",
      "\n",
      "False Positives(FP) =  37\n",
      "\n",
      "False Negatives(FN) =  69\n"
     ]
    }
   ]
  },
  {
   "cell_type": "code",
   "source": [
    "# Print the Confusion Matrix Report\n",
    "print(classification_report(Y_test, Y_test_pred))"
   ],
   "metadata": {
    "colab": {
     "base_uri": "https://localhost:8080/"
    },
    "id": "bLzUns1e5RV_",
    "outputId": "521fa0ac-bc74-49a0-a918-ca7870b9e8e7"
   },
   "execution_count": null,
   "outputs": [
    {
     "output_type": "stream",
     "name": "stdout",
     "text": [
      "              precision    recall  f1-score   support\n",
      "\n",
      "           0       0.89      0.94      0.92       616\n",
      "           1       0.91      0.84      0.87       437\n",
      "\n",
      "    accuracy                           0.90      1053\n",
      "   macro avg       0.90      0.89      0.90      1053\n",
      "weighted avg       0.90      0.90      0.90      1053\n",
      "\n"
     ]
    }
   ]
  },
  {
   "cell_type": "markdown",
   "source": [
    "Checking accuracy of train data\n",
    "\n"
   ],
   "metadata": {
    "id": "ZHdFtHIWmdIv"
   }
  },
  {
   "cell_type": "code",
   "source": [
    "# Predict the labels of the train set\n",
    "Y_train_pred = knn.predict(X_train)\n",
    "# Evaluate the accuracy of the model\n",
    "accuracy = accuracy_score(Y_train, Y_train_pred)\n",
    "print(\"Train data accuracy: {:.2f}%\".format(accuracy * 100))"
   ],
   "metadata": {
    "colab": {
     "base_uri": "https://localhost:8080/"
    },
    "id": "t_USjGn7ls9T",
    "outputId": "6ce9b189-8011-422f-f6ce-2f2e81155121"
   },
   "execution_count": null,
   "outputs": [
    {
     "output_type": "stream",
     "name": "stdout",
     "text": [
      "Train data accuracy: 92.62%\n"
     ]
    }
   ]
  },
  {
   "cell_type": "code",
   "source": [
    "# Print the Confusion Matrix\n",
    "cm = confusion_matrix(Y_train, Y_train_pred)\n",
    "\n",
    "print('Confusion Matrix')\n",
    "print('\\nTrue Positives(TP) = ', cm[0,0])\n",
    "print('\\nTrue Negatives(TN) = ', cm[1,1])\n",
    "print('\\nFalse Positives(FP) = ', cm[0,1])\n",
    "print('\\nFalse Negatives(FN) = ', cm[1,0])"
   ],
   "metadata": {
    "colab": {
     "base_uri": "https://localhost:8080/"
    },
    "id": "uh8n5lB3OkHQ",
    "outputId": "6755854f-72e1-4294-9221-e0fc2c2e1134"
   },
   "execution_count": null,
   "outputs": [
    {
     "output_type": "stream",
     "name": "stdout",
     "text": [
      "Confusion matrix\n",
      "\n",
      "True Positives(TP) =  1820\n",
      "\n",
      "True Negatives(TN) =  1103\n",
      "\n",
      "False Positives(FP) =  95\n",
      "\n",
      "False Negatives(FN) =  138\n"
     ]
    }
   ]
  },
  {
   "cell_type": "code",
   "source": [
    "# Print the Confusion Matrix Report\n",
    "print(classification_report(Y_train, Y_train_pred))"
   ],
   "metadata": {
    "colab": {
     "base_uri": "https://localhost:8080/"
    },
    "id": "CAy0xFGom10a",
    "outputId": "1f4007a1-f260-4eb0-ed91-471b294044d2"
   },
   "execution_count": null,
   "outputs": [
    {
     "output_type": "stream",
     "name": "stdout",
     "text": [
      "              precision    recall  f1-score   support\n",
      "\n",
      "           0       0.93      0.95      0.94      1915\n",
      "           1       0.92      0.89      0.90      1241\n",
      "\n",
      "    accuracy                           0.93      3156\n",
      "   macro avg       0.93      0.92      0.92      3156\n",
      "weighted avg       0.93      0.93      0.93      3156\n",
      "\n"
     ]
    }
   ]
  },
  {
   "cell_type": "markdown",
   "source": [
    "# Performing KNN on PCA performed data"
   ],
   "metadata": {
    "id": "Nbn_Al6k-16Z"
   }
  },
  {
   "cell_type": "markdown",
   "source": [
    "### Applying PCA on scaled data"
   ],
   "metadata": {
    "id": "dIGNGKhWkzIP"
   }
  },
  {
   "cell_type": "markdown",
   "source": [
    "Determining optimal number of components"
   ],
   "metadata": {
    "id": "gxRBq8865-hs"
   }
  },
  {
   "cell_type": "code",
   "source": [
    "# Creating a PCA object and fit the scaled data\n",
    "pca = PCA()\n",
    "pca.fit(X_scaled)\n",
    "\n",
    "# generate scree plot\n",
    "plt.plot(np.arange(1, pca.n_components_+1), pca.explained_variance_ratio_, 'o-', linewidth=2)\n",
    "plt.xlabel('Number of Components')\n",
    "plt.ylabel('Explained Variance Ratio')\n",
    "plt.title('Scree Plot')\n",
    "plt.show()\n",
    "\n",
    "# determine optimal number of components\n",
    "cumulative_variance_ratio = np.cumsum(pca.explained_variance_ratio_)\n",
    "n_components = np.argmax(cumulative_variance_ratio >= 0.95) + 1\n",
    "print('Optimal number of components:', n_components)"
   ],
   "metadata": {
    "colab": {
     "base_uri": "https://localhost:8080/",
     "height": 312
    },
    "id": "oDGX5H9A1vnI",
    "outputId": "dc7e560f-e977-437e-8e2b-fca0d8fafee1"
   },
   "execution_count": null,
   "outputs": [
    {
     "output_type": "display_data",
     "data": {
      "text/plain": [
       "<Figure size 432x288 with 1 Axes>"
      ],
      "image/png": "[encoded data removed]"
     },
     "metadata": {
      "needs_background": "light"
     }
    },
    {
     "output_type": "stream",
     "name": "stdout",
     "text": [
      "Optimal number of components: 49\n"
     ]
    }
   ]
  },
  {
   "cell_type": "code",
   "source": [
    "pca = PCA(n_components=49)\n",
    "pca.fit(X_scaled)\n",
    "\n",
    "# Transform the data\n",
    "X_pca = pca.transform(X_scaled)"
   ],
   "metadata": {
    "id": "F2UgWNNV4bjt"
   },
   "execution_count": null,
   "outputs": []
  },
  {
   "cell_type": "markdown",
   "source": [
    "Get reconstruction loss"
   ],
   "metadata": {
    "id": "Ipgi26Wp633E"
   }
  },
  {
   "cell_type": "code",
   "source": [
    "# Reconstruct the data using the retained principal components\n",
    "X_reconstructed = pca.inverse_transform(X_pca)\n",
    "\n",
    "# Compute the reconstruction loss\n",
    "reconstruction_loss = np.mean(np.square(X_scaled - X_reconstructed))\n",
    "print('Reconstruction loss:', reconstruction_loss)"
   ],
   "metadata": {
    "colab": {
     "base_uri": "https://localhost:8080/"
    },
    "id": "Aebhy1gH64Uv",
    "outputId": "b7844421-a77d-4bf3-a7e8-0da0335fa790"
   },
   "execution_count": null,
   "outputs": [
    {
     "output_type": "stream",
     "name": "stdout",
     "text": [
      "Reconstruction loss: 0.043327609481529784\n"
     ]
    }
   ]
  },
  {
   "cell_type": "markdown",
   "source": [
    "### Performing KNN"
   ],
   "metadata": {
    "id": "umQ5XWYc_Dop"
   }
  },
  {
   "cell_type": "markdown",
   "source": [
    "Splitting the pca perfomed data into train and test data\n"
   ],
   "metadata": {
    "id": "RQ508D-M_hJ3"
   }
  },
  {
   "cell_type": "code",
   "source": [
    "# Split the scaled data into training and testing sets\n",
    "X_pca_train, X_pca_test, Y_pca_train, Y_pca_test = train_test_split(X_pca, Y, test_size=0.25, random_state=0)"
   ],
   "metadata": {
    "id": "BoO7yHKp_QWf"
   },
   "execution_count": null,
   "outputs": []
  },
  {
   "cell_type": "markdown",
   "source": [
    "Determining the best K value"
   ],
   "metadata": {
    "id": "JIsRxmS8Nubi"
   }
  },
  {
   "cell_type": "code",
   "source": [
    "# Define the parameter grid for k\n",
    "param_grid = {'n_neighbors': [3, 5, 7, 9, 11]}\n",
    "\n",
    "# Create a KNN classifier object\n",
    "knn = KNeighborsClassifier()\n",
    "\n",
    "# Perform grid search with 5-fold cross-validation\n",
    "grid_search = GridSearchCV(knn, param_grid, cv=5)\n",
    "\n",
    "# Fit the grid search object to the data\n",
    "grid_search.fit(X_pca, Y)\n",
    "\n",
    "# Print the best k value and corresponding accuracy\n",
    "print(\"Best K value: {}\".format(grid_search.best_params_['n_neighbors']))\n",
    "print(\"Best accuracy: {:.2f}%\".format(grid_search.best_score_ * 100))\n",
    "\n",
    "# Extract the test set accuracy for each k value\n",
    "scores = grid_search.cv_results_['mean_test_score']\n",
    "best_k = grid_search.best_params_['n_neighbors']\n",
    "\n",
    "# Plot the test set accuracy vs. k values\n",
    "plt.plot(param_grid['n_neighbors'], scores)\n",
    "plt.scatter(best_k, scores[best_k//2], color='red')\n",
    "plt.xlabel('K Value')\n",
    "plt.ylabel('Accuracy')\n",
    "plt.title('KNN Grid Search')\n",
    "plt.show()"
   ],
   "metadata": {
    "colab": {
     "base_uri": "https://localhost:8080/",
     "height": 330
    },
    "id": "7eyuI_2gNSbw",
    "outputId": "b6a76c17-d924-4c6d-af8a-81a2d7f11307"
   },
   "execution_count": null,
   "outputs": [
    {
     "output_type": "stream",
     "name": "stdout",
     "text": [
      "Best k value: 5\n",
      "Best accuracy: 88.29%\n"
     ]
    },
    {
     "output_type": "display_data",
     "data": {
      "text/plain": [
       "<Figure size 432x288 with 1 Axes>"
      ],
      "image/png": "[encoded data removed]"
     },
     "metadata": {
      "needs_background": "light"
     }
    }
   ]
  },
  {
   "cell_type": "markdown",
   "source": [
    "Training the model"
   ],
   "metadata": {
    "id": "bSxE563w_L88"
   }
  },
  {
   "cell_type": "code",
   "source": [
    "# Train a KNN classifier with k=5 neighbors\n",
    "knn = KNeighborsClassifier(n_neighbors=5)\n",
    "knn.fit(X_pca_train, Y_pca_train)"
   ],
   "metadata": {
    "colab": {
     "base_uri": "https://localhost:8080/",
     "height": 74
    },
    "id": "yHqbWIFD_Fcc",
    "outputId": "5dfc4918-f5b1-4e98-c6d1-7f78188c8b74"
   },
   "execution_count": null,
   "outputs": [
    {
     "output_type": "execute_result",
     "data": {
      "text/plain": [
       "KNeighborsClassifier()"
      ],
      "text/html": [
       "<style>#sk-container-id-26 {color: black;background-color: white;}#sk-container-id-26 pre{padding: 0;}#sk-container-id-26 div.sk-toggleable {background-color: white;}#sk-container-id-26 label.sk-toggleable__label {cursor: pointer;display: block;width: 100%;margin-bottom: 0;padding: 0.3em;box-sizing: border-box;text-align: center;}#sk-container-id-26 label.sk-toggleable__label-arrow:before {content: \"▸\";float: left;margin-right: 0.25em;color: #696969;}#sk-container-id-26 label.sk-toggleable__label-arrow:hover:before {color: black;}#sk-container-id-26 div.sk-estimator:hover label.sk-toggleable__label-arrow:before {color: black;}#sk-container-id-26 div.sk-toggleable__content {max-height: 0;max-width: 0;overflow: hidden;text-align: left;background-color: #f0f8ff;}#sk-container-id-26 div.sk-toggleable__content pre {margin: 0.2em;color: black;border-radius: 0.25em;background-color: #f0f8ff;}#sk-container-id-26 input.sk-toggleable__control:checked~div.sk-toggleable__content {max-height: 200px;max-width: 100%;overflow: auto;}#sk-container-id-26 input.sk-toggleable__control:checked~label.sk-toggleable__label-arrow:before {content: \"▾\";}#sk-container-id-26 div.sk-estimator input.sk-toggleable__control:checked~label.sk-toggleable__label {background-color: #d4ebff;}#sk-container-id-26 div.sk-label input.sk-toggleable__control:checked~label.sk-toggleable__label {background-color: #d4ebff;}#sk-container-id-26 input.sk-hidden--visually {border: 0;clip: rect(1px 1px 1px 1px);clip: rect(1px, 1px, 1px, 1px);height: 1px;margin: -1px;overflow: hidden;padding: 0;position: absolute;width: 1px;}#sk-container-id-26 div.sk-estimator {font-family: monospace;background-color: #f0f8ff;border: 1px dotted black;border-radius: 0.25em;box-sizing: border-box;margin-bottom: 0.5em;}#sk-container-id-26 div.sk-estimator:hover {background-color: #d4ebff;}#sk-container-id-26 div.sk-parallel-item::after {content: \"\";width: 100%;border-bottom: 1px solid gray;flex-grow: 1;}#sk-container-id-26 div.sk-label:hover label.sk-toggleable__label {background-color: #d4ebff;}#sk-container-id-26 div.sk-serial::before {content: \"\";position: absolute;border-left: 1px solid gray;box-sizing: border-box;top: 0;bottom: 0;left: 50%;z-index: 0;}#sk-container-id-26 div.sk-serial {display: flex;flex-direction: column;align-items: center;background-color: white;padding-right: 0.2em;padding-left: 0.2em;position: relative;}#sk-container-id-26 div.sk-item {position: relative;z-index: 1;}#sk-container-id-26 div.sk-parallel {display: flex;align-items: stretch;justify-content: center;background-color: white;position: relative;}#sk-container-id-26 div.sk-item::before, #sk-container-id-26 div.sk-parallel-item::before {content: \"\";position: absolute;border-left: 1px solid gray;box-sizing: border-box;top: 0;bottom: 0;left: 50%;z-index: -1;}#sk-container-id-26 div.sk-parallel-item {display: flex;flex-direction: column;z-index: 1;position: relative;background-color: white;}#sk-container-id-26 div.sk-parallel-item:first-child::after {align-self: flex-end;width: 50%;}#sk-container-id-26 div.sk-parallel-item:last-child::after {align-self: flex-start;width: 50%;}#sk-container-id-26 div.sk-parallel-item:only-child::after {width: 0;}#sk-container-id-26 div.sk-dashed-wrapped {border: 1px dashed gray;margin: 0 0.4em 0.5em 0.4em;box-sizing: border-box;padding-bottom: 0.4em;background-color: white;}#sk-container-id-26 div.sk-label label {font-family: monospace;font-weight: bold;display: inline-block;line-height: 1.2em;}#sk-container-id-26 div.sk-label-container {text-align: center;}#sk-container-id-26 div.sk-container {/* jupyter's `normalize.less` sets `[hidden] { display: none; }` but bootstrap.min.css set `[hidden] { display: none !important; }` so we also need the `!important` here to be able to override the default hidden behavior on the sphinx rendered scikit-learn.org. See: https://github.com/scikit-learn/scikit-learn/issues/21755 */display: inline-block !important;position: relative;}#sk-container-id-26 div.sk-text-repr-fallback {display: none;}</style><div id=\"sk-container-id-26\" class=\"sk-top-container\"><div class=\"sk-text-repr-fallback\"><pre>KNeighborsClassifier()</pre><b>In a Jupyter environment, please rerun this cell to show the HTML representation or trust the notebook. <br />On GitHub, the HTML representation is unable to render, please try loading this page with nbviewer.org.</b></div><div class=\"sk-container\" hidden><div class=\"sk-item\"><div class=\"sk-estimator sk-toggleable\"><input class=\"sk-toggleable__control sk-hidden--visually\" id=\"sk-estimator-id-26\" type=\"checkbox\" checked><label for=\"sk-estimator-id-26\" class=\"sk-toggleable__label sk-toggleable__label-arrow\">KNeighborsClassifier</label><div class=\"sk-toggleable__content\"><pre>KNeighborsClassifier()</pre></div></div></div></div></div>"
      ]
     },
     "metadata": {},
     "execution_count": 301
    }
   ]
  },
  {
   "cell_type": "markdown",
   "source": [
    "Checking accuracy of test data"
   ],
   "metadata": {
    "id": "v3gBd09u_5Bk"
   }
  },
  {
   "cell_type": "code",
   "source": [
    "# Predict the labels of the test set\n",
    "Y_pca_test_pred = knn.predict(X_pca_test)\n",
    "# Evaluate the accuracy of the model\n",
    "accuracy = accuracy_score(Y_pca_test, Y_pca_test_pred)\n",
    "print(\"Test data accuracy: {:.2f}%\".format(accuracy * 100))"
   ],
   "metadata": {
    "colab": {
     "base_uri": "https://localhost:8080/"
    },
    "id": "Yq2MeTqg_wOO",
    "outputId": "662b4bdb-733f-45af-bd73-fe5bbcef709f"
   },
   "execution_count": null,
   "outputs": [
    {
     "output_type": "stream",
     "name": "stdout",
     "text": [
      "Test data accuracy: 90.69%\n"
     ]
    }
   ]
  },
  {
   "cell_type": "code",
   "source": [
    "# Print the Confusion Matrix\n",
    "cm = confusion_matrix(Y_pca_test, Y_pca_test_pred)\n",
    "\n",
    "print('Confusion Matrix')\n",
    "print('\\nTrue Positives(TP) = ', cm[0,0])\n",
    "print('\\nTrue Negatives(TN) = ', cm[1,1])\n",
    "print('\\nFalse Positives(FP) = ', cm[0,1])\n",
    "print('\\nFalse Negatives(FN) = ', cm[1,0])"
   ],
   "metadata": {
    "colab": {
     "base_uri": "https://localhost:8080/"
    },
    "id": "byWp8BrnOp9q",
    "outputId": "d6e8ca98-1d1a-423c-d5b8-31fc4a7505e0"
   },
   "execution_count": null,
   "outputs": [
    {
     "output_type": "stream",
     "name": "stdout",
     "text": [
      "Confusion Matrix\n",
      "\n",
      "True Positives(TP) =  577\n",
      "\n",
      "True Negatives(TN) =  378\n",
      "\n",
      "False Positives(FP) =  39\n",
      "\n",
      "False Negatives(FN) =  59\n"
     ]
    }
   ]
  },
  {
   "cell_type": "code",
   "source": [
    "# Print the Confusion Matrix Report\n",
    "print(classification_report(Y_pca_test, Y_pca_test_pred))"
   ],
   "metadata": {
    "colab": {
     "base_uri": "https://localhost:8080/"
    },
    "id": "uScLQ6ay_0io",
    "outputId": "63d433fb-4353-473a-ffad-830f6c6945fd"
   },
   "execution_count": null,
   "outputs": [
    {
     "output_type": "stream",
     "name": "stdout",
     "text": [
      "              precision    recall  f1-score   support\n",
      "\n",
      "           0       0.91      0.94      0.92       616\n",
      "           1       0.91      0.86      0.89       437\n",
      "\n",
      "    accuracy                           0.91      1053\n",
      "   macro avg       0.91      0.90      0.90      1053\n",
      "weighted avg       0.91      0.91      0.91      1053\n",
      "\n"
     ]
    }
   ]
  },
  {
   "cell_type": "markdown",
   "source": [
    "Checking accuracy of train data\n"
   ],
   "metadata": {
    "id": "o9ETsSPk_9Zj"
   }
  },
  {
   "cell_type": "code",
   "source": [
    "# Predict the labels of the test set\n",
    "Y_pca_train_pred = knn.predict(X_pca_train)\n",
    "# Evaluate the accuracy of the model\n",
    "accuracy = accuracy_score(Y_pca_train, Y_pca_train_pred)\n",
    "print(\"Train data accuracy: {:.2f}%\".format(accuracy * 100))"
   ],
   "metadata": {
    "colab": {
     "base_uri": "https://localhost:8080/"
    },
    "id": "xHro8o_g_8sg",
    "outputId": "de62c612-1eaa-428b-be7a-f236d57a9642"
   },
   "execution_count": null,
   "outputs": [
    {
     "output_type": "stream",
     "name": "stdout",
     "text": [
      "Train data accuracy: 92.62%\n"
     ]
    }
   ]
  },
  {
   "cell_type": "code",
   "source": [
    "# Print the Confusion Matrix\n",
    "cm = confusion_matrix(Y_pca_train, Y_pca_train_pred)\n",
    "\n",
    "print('Confusion Matrix')\n",
    "print('\\nTrue Positives(TP) = ', cm[0,0])\n",
    "print('\\nTrue Negatives(TN) = ', cm[1,1])\n",
    "print('\\nFalse Positives(FP) = ', cm[0,1])\n",
    "print('\\nFalse Negatives(FN) = ', cm[1,0])"
   ],
   "metadata": {
    "colab": {
     "base_uri": "https://localhost:8080/"
    },
    "id": "L0WPR2aFOwr3",
    "outputId": "8a52918d-9fbc-4699-b2dd-10ad24fb8603"
   },
   "execution_count": null,
   "outputs": [
    {
     "output_type": "stream",
     "name": "stdout",
     "text": [
      "Confusion Matrix\n",
      "\n",
      "True Positives(TP) =  1818\n",
      "\n",
      "True Negatives(TN) =  1105\n",
      "\n",
      "False Positives(FP) =  97\n",
      "\n",
      "False Negatives(FN) =  136\n"
     ]
    }
   ]
  },
  {
   "cell_type": "code",
   "source": [
    "# Print the Confusion Matrix Report\n",
    "print(classification_report(Y_pca_train, Y_pca_train_pred))"
   ],
   "metadata": {
    "colab": {
     "base_uri": "https://localhost:8080/"
    },
    "id": "wtPyaol1__xS",
    "outputId": "9b6f1e15-7e80-42f5-b8f0-7b2690df536a"
   },
   "execution_count": null,
   "outputs": [
    {
     "output_type": "stream",
     "name": "stdout",
     "text": [
      "              precision    recall  f1-score   support\n",
      "\n",
      "           0       0.93      0.95      0.94      1915\n",
      "           1       0.92      0.89      0.90      1241\n",
      "\n",
      "    accuracy                           0.93      3156\n",
      "   macro avg       0.92      0.92      0.92      3156\n",
      "weighted avg       0.93      0.93      0.93      3156\n",
      "\n"
     ]
    }
   ]
  }
 ],
 "metadata": {
  "kernelspec": {
   "display_name": "Python 3",
   "language": "python",
   "name": "python3"
  },
  "language_info": {
   "codemirror_mode": {
    "name": "ipython",
    "version": 2
   },
   "file_extension": ".py",
   "mimetype": "text/x-python",
   "name": "python",
   "nbconvert_exporter": "python",
   "pygments_lexer": "ipython2",
   "version": "2.7.6"
  },
  "colab": {
   "provenance": []
  }
 },
 "nbformat": 4,
 "nbformat_minor": 0
}
